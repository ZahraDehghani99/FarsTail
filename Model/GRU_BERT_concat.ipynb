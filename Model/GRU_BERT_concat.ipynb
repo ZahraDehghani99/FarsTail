{
 "cells": [
  {
   "cell_type": "code",
   "execution_count": null,
   "metadata": {
    "colab": {
     "base_uri": "https://localhost:8080/",
     "height": 683
    },
    "colab_type": "code",
    "id": "8LFAeomWIcaT",
    "outputId": "2a34784b-1008-4715-9743-fdab80894d49"
   },
   "outputs": [],
   "source": [
    "# Install and import requirements\n",
    "!pip install bert-embedding --no-deps\n",
    "!pip install mxnet-cu100\n",
    "!pip install gluonnlp==0.8.3\n",
    "\n",
    "import numpy as np\n",
    "import mxnet as mx\n",
    "from bert_embedding import BertEmbedding\n",
    "from keras.preprocessing.sequence import pad_sequences\n",
    "from keras.models import load_model\n",
    "\n",
    "# Create BERT model\n",
    "ctx = mx.gpu(0)\n",
    "bertmodel = BertEmbedding(model='bert_12_768_12', dataset_name='wiki_multilingual_cased', max_seq_length=200, ctx=ctx)"
   ]
  },
  {
   "cell_type": "code",
   "execution_count": null,
   "metadata": {
    "colab": {},
    "colab_type": "code",
    "id": "6CtxKaRNMcs5"
   },
   "outputs": [],
   "source": [
    "def inference(premise, hypothesis):\n",
    "    # Vectorization\n",
    "    maxlen = 151 # equal to the length of the longest sentence\n",
    "    test = pad_sequences(np.array(bertmodel([premise + ' | ' + hypothesis])[0][1])[None, :, :], maxlen=maxlen, dtype='float32')\n",
    "\n",
    "    # Load network model\n",
    "    model = load_model('GRU_BERT_concat.h5')\n",
    "    labels = ['entailment', 'contradiction', 'neutral']\n",
    "    return labels[model.predict(test).argmax(axis=1)[0]]"
   ]
  },
  {
   "cell_type": "code",
   "execution_count": 9,
   "metadata": {
    "colab": {
     "base_uri": "https://localhost:8080/",
     "height": 35
    },
    "colab_type": "code",
    "id": "KxXYMFdbIF5m",
    "outputId": "a33df16a-2f51-4069-ae40-87d199ee4672"
   },
   "outputs": [
    {
     "data": {
      "application/vnd.google.colaboratory.intrinsic": {
       "type": "string"
      },
      "text/plain": [
       "'contradiction'"
      ]
     },
     "execution_count": 9,
     "metadata": {
      "tags": []
     },
     "output_type": "execute_result"
    }
   ],
   "source": [
    "premise = 'با شهادت امام علی (ع) مرحله جدیدی از تلاش ائمه شروع شد که «دوران محنت اهل بیت» نام دارد.'\n",
    "hypothesis = 'دوران سختی اهل بیت پس از شهادت امام رضا (ع) آغاز گردید.'\n",
    "inference(premise, hypothesis)"
   ]
  }
 ],
 "metadata": {
  "accelerator": "GPU",
  "colab": {
   "collapsed_sections": [],
   "machine_shape": "hm",
   "name": "BERT_GRU (Concat Inputs).ipynb",
   "provenance": []
  },
  "kernelspec": {
   "display_name": "Python 3",
   "language": "python",
   "name": "python3"
  },
  "language_info": {
   "codemirror_mode": {
    "name": "ipython",
    "version": 3
   },
   "file_extension": ".py",
   "mimetype": "text/x-python",
   "name": "python",
   "nbconvert_exporter": "python",
   "pygments_lexer": "ipython3",
   "version": "3.5.3"
  }
 },
 "nbformat": 4,
 "nbformat_minor": 4
}
